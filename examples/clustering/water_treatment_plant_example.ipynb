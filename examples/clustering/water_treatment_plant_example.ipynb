{
 "cells": [
  {
   "cell_type": "markdown",
   "metadata": {},
   "source": [
    "# Start H2O"
   ]
  },
  {
   "cell_type": "code",
   "execution_count": 1,
   "metadata": {},
   "outputs": [
    {
     "name": "stdout",
     "output_type": "stream",
     "text": [
      "Checking whether there is an H2O instance running at http://localhost:54321..... not found.\n",
      "Attempting to start a local H2O server...\n",
      "  Java Version: java version \"1.8.0_72\"; Java(TM) SE Runtime Environment (build 1.8.0_72-b15); Java HotSpot(TM) 64-Bit Server VM (build 25.72-b15, mixed mode)\n",
      "  Starting server from /Users/jofaichow/anaconda/lib/python3.6/site-packages/h2o/backend/bin/h2o.jar\n",
      "  Ice root: /var/folders/4z/p7yt7_4n4fj1jlyq6g4qhfbw0000gn/T/tmpx7q7ux_8\n",
      "  JVM stdout: /var/folders/4z/p7yt7_4n4fj1jlyq6g4qhfbw0000gn/T/tmpx7q7ux_8/h2o_jofaichow_started_from_python.out\n",
      "  JVM stderr: /var/folders/4z/p7yt7_4n4fj1jlyq6g4qhfbw0000gn/T/tmpx7q7ux_8/h2o_jofaichow_started_from_python.err\n",
      "  Server is running at http://127.0.0.1:54321\n",
      "Connecting to H2O server at http://127.0.0.1:54321... successful.\n"
     ]
    },
    {
     "data": {
      "text/html": [
       "<div style=\"overflow:auto\"><table style=\"width:50%\"><tr><td>H2O cluster uptime:</td>\n",
       "<td>02 secs</td></tr>\n",
       "<tr><td>H2O cluster timezone:</td>\n",
       "<td>Europe/Amsterdam</td></tr>\n",
       "<tr><td>H2O data parsing timezone:</td>\n",
       "<td>UTC</td></tr>\n",
       "<tr><td>H2O cluster version:</td>\n",
       "<td>3.18.0.1</td></tr>\n",
       "<tr><td>H2O cluster version age:</td>\n",
       "<td>7 days, 3 hours and 17 minutes </td></tr>\n",
       "<tr><td>H2O cluster name:</td>\n",
       "<td>H2O_from_python_jofaichow_8jp16u</td></tr>\n",
       "<tr><td>H2O cluster total nodes:</td>\n",
       "<td>1</td></tr>\n",
       "<tr><td>H2O cluster free memory:</td>\n",
       "<td>3.556 Gb</td></tr>\n",
       "<tr><td>H2O cluster total cores:</td>\n",
       "<td>8</td></tr>\n",
       "<tr><td>H2O cluster allowed cores:</td>\n",
       "<td>8</td></tr>\n",
       "<tr><td>H2O cluster status:</td>\n",
       "<td>accepting new members, healthy</td></tr>\n",
       "<tr><td>H2O connection url:</td>\n",
       "<td>http://127.0.0.1:54321</td></tr>\n",
       "<tr><td>H2O connection proxy:</td>\n",
       "<td>None</td></tr>\n",
       "<tr><td>H2O internal security:</td>\n",
       "<td>False</td></tr>\n",
       "<tr><td>H2O API Extensions:</td>\n",
       "<td>XGBoost, Algos, AutoML, Core V3, Core V4</td></tr>\n",
       "<tr><td>Python version:</td>\n",
       "<td>3.6.1 final</td></tr></table></div>"
      ],
      "text/plain": [
       "--------------------------  ----------------------------------------\n",
       "H2O cluster uptime:         02 secs\n",
       "H2O cluster timezone:       Europe/Amsterdam\n",
       "H2O data parsing timezone:  UTC\n",
       "H2O cluster version:        3.18.0.1\n",
       "H2O cluster version age:    7 days, 3 hours and 17 minutes\n",
       "H2O cluster name:           H2O_from_python_jofaichow_8jp16u\n",
       "H2O cluster total nodes:    1\n",
       "H2O cluster free memory:    3.556 Gb\n",
       "H2O cluster total cores:    8\n",
       "H2O cluster allowed cores:  8\n",
       "H2O cluster status:         accepting new members, healthy\n",
       "H2O connection url:         http://127.0.0.1:54321\n",
       "H2O connection proxy:\n",
       "H2O internal security:      False\n",
       "H2O API Extensions:         XGBoost, Algos, AutoML, Core V3, Core V4\n",
       "Python version:             3.6.1 final\n",
       "--------------------------  ----------------------------------------"
      ]
     },
     "metadata": {},
     "output_type": "display_data"
    }
   ],
   "source": [
    "# Start and connect to a local H2O cluster\n",
    "import h2o\n",
    "h2o.init()"
   ]
  },
  {
   "cell_type": "markdown",
   "metadata": {},
   "source": [
    "# Import Data"
   ]
  },
  {
   "cell_type": "code",
   "execution_count": 2,
   "metadata": {},
   "outputs": [
    {
     "name": "stdout",
     "output_type": "stream",
     "text": [
      "Parse progress: |█████████████████████████████████████████████████████████| 100%\n"
     ]
    }
   ],
   "source": [
    "# Import house price data from GitHub\n",
    "train = h2o.import_file(\"https://github.com/woobe/h2o_training_2018_02/raw/master/examples/clustering/water_treatment_plant.csv\")"
   ]
  },
  {
   "cell_type": "code",
   "execution_count": 3,
   "metadata": {
    "collapsed": true
   },
   "outputs": [],
   "source": [
    "# Alternatively, import data locally\n",
    "# train = h2o.import_file(\"water_treatment_plant.csv\")"
   ]
  },
  {
   "cell_type": "code",
   "execution_count": 4,
   "metadata": {},
   "outputs": [
    {
     "data": {
      "text/html": [
       "<table>\n",
       "<thead>\n",
       "<tr><th>name    </th><th style=\"text-align: right;\">  Q-E</th><th style=\"text-align: right;\">  ZN-E</th><th style=\"text-align: right;\">  PH-E</th><th style=\"text-align: right;\">  DBO-E</th><th style=\"text-align: right;\">  DQO-E</th><th style=\"text-align: right;\">  SS-E</th><th style=\"text-align: right;\">  SSV-E</th><th style=\"text-align: right;\">  SED-E</th><th style=\"text-align: right;\">  COND-E</th><th style=\"text-align: right;\">  PH-P</th><th style=\"text-align: right;\">  DBO-P</th><th style=\"text-align: right;\">  SS-P</th><th style=\"text-align: right;\">  SSV-P</th><th style=\"text-align: right;\">  SED-P</th><th style=\"text-align: right;\">  COND-P</th><th style=\"text-align: right;\">  PH-D</th><th style=\"text-align: right;\">  DBO-D</th><th style=\"text-align: right;\">  DQO-D</th><th style=\"text-align: right;\">  SS-D</th><th style=\"text-align: right;\">  SSV-D</th><th style=\"text-align: right;\">  SED-D</th><th style=\"text-align: right;\">  COND-D</th><th style=\"text-align: right;\">  PH-S</th><th style=\"text-align: right;\">  DBO-S</th><th style=\"text-align: right;\">  DQO-S</th><th style=\"text-align: right;\">  SS-S</th><th style=\"text-align: right;\">  SSV-S</th><th style=\"text-align: right;\">  SED-S</th><th style=\"text-align: right;\">  COND-S</th><th style=\"text-align: right;\">  RD-DBO-P</th><th style=\"text-align: right;\">  RD-SS-P</th><th style=\"text-align: right;\">  RD-SED-P</th><th style=\"text-align: right;\">  RD-DBO-S</th><th style=\"text-align: right;\">  RD-DQO-S</th><th style=\"text-align: right;\">  RD-DBO-G</th><th style=\"text-align: right;\">  RD-DQO-G</th><th style=\"text-align: right;\">  RD-SS-G</th><th style=\"text-align: right;\">  RD-SED-G</th></tr>\n",
       "</thead>\n",
       "<tbody>\n",
       "<tr><td>D-1/3/90</td><td style=\"text-align: right;\">44101</td><td style=\"text-align: right;\">   1.5</td><td style=\"text-align: right;\">   7.8</td><td style=\"text-align: right;\">    nan</td><td style=\"text-align: right;\">    407</td><td style=\"text-align: right;\">   166</td><td style=\"text-align: right;\">   66.3</td><td style=\"text-align: right;\">    4.5</td><td style=\"text-align: right;\">    2110</td><td style=\"text-align: right;\">   7.9</td><td style=\"text-align: right;\">    nan</td><td style=\"text-align: right;\">   228</td><td style=\"text-align: right;\">   70.2</td><td style=\"text-align: right;\">    5.5</td><td style=\"text-align: right;\">    2120</td><td style=\"text-align: right;\">   7.9</td><td style=\"text-align: right;\">    nan</td><td style=\"text-align: right;\">    280</td><td style=\"text-align: right;\">    94</td><td style=\"text-align: right;\">   72.3</td><td style=\"text-align: right;\">    0.3</td><td style=\"text-align: right;\">    2010</td><td style=\"text-align: right;\">   7.3</td><td style=\"text-align: right;\">    nan</td><td style=\"text-align: right;\">     84</td><td style=\"text-align: right;\">    21</td><td style=\"text-align: right;\">   81  </td><td style=\"text-align: right;\">   0.02</td><td style=\"text-align: right;\">    2000</td><td style=\"text-align: right;\">     nan  </td><td style=\"text-align: right;\">     58.8</td><td style=\"text-align: right;\">      95.5</td><td style=\"text-align: right;\">     nan  </td><td style=\"text-align: right;\">      70  </td><td style=\"text-align: right;\">     nan  </td><td style=\"text-align: right;\">      79.4</td><td style=\"text-align: right;\">     87.3</td><td style=\"text-align: right;\">      99.6</td></tr>\n",
       "<tr><td>D-2/3/90</td><td style=\"text-align: right;\">39024</td><td style=\"text-align: right;\">   3  </td><td style=\"text-align: right;\">   7.7</td><td style=\"text-align: right;\">    nan</td><td style=\"text-align: right;\">    443</td><td style=\"text-align: right;\">   214</td><td style=\"text-align: right;\">   69.2</td><td style=\"text-align: right;\">    6.5</td><td style=\"text-align: right;\">    2660</td><td style=\"text-align: right;\">   7.7</td><td style=\"text-align: right;\">    nan</td><td style=\"text-align: right;\">   244</td><td style=\"text-align: right;\">   75.4</td><td style=\"text-align: right;\">    7.7</td><td style=\"text-align: right;\">    2570</td><td style=\"text-align: right;\">   7.6</td><td style=\"text-align: right;\">    nan</td><td style=\"text-align: right;\">    474</td><td style=\"text-align: right;\">    96</td><td style=\"text-align: right;\">   79.2</td><td style=\"text-align: right;\">    0.4</td><td style=\"text-align: right;\">    2700</td><td style=\"text-align: right;\">   7.5</td><td style=\"text-align: right;\">    nan</td><td style=\"text-align: right;\">     91</td><td style=\"text-align: right;\">    17</td><td style=\"text-align: right;\">   94.1</td><td style=\"text-align: right;\">   0   </td><td style=\"text-align: right;\">    2590</td><td style=\"text-align: right;\">     nan  </td><td style=\"text-align: right;\">     60.7</td><td style=\"text-align: right;\">      94.8</td><td style=\"text-align: right;\">     nan  </td><td style=\"text-align: right;\">      80.8</td><td style=\"text-align: right;\">     nan  </td><td style=\"text-align: right;\">      79.5</td><td style=\"text-align: right;\">     92.1</td><td style=\"text-align: right;\">     100  </td></tr>\n",
       "<tr><td>D-4/3/90</td><td style=\"text-align: right;\">32229</td><td style=\"text-align: right;\">   5  </td><td style=\"text-align: right;\">   7.6</td><td style=\"text-align: right;\">    nan</td><td style=\"text-align: right;\">    528</td><td style=\"text-align: right;\">   186</td><td style=\"text-align: right;\">   69.9</td><td style=\"text-align: right;\">    3.4</td><td style=\"text-align: right;\">    1666</td><td style=\"text-align: right;\">   7.7</td><td style=\"text-align: right;\">    nan</td><td style=\"text-align: right;\">   220</td><td style=\"text-align: right;\">   72.7</td><td style=\"text-align: right;\">    4.5</td><td style=\"text-align: right;\">    1594</td><td style=\"text-align: right;\">   7.7</td><td style=\"text-align: right;\">    nan</td><td style=\"text-align: right;\">    272</td><td style=\"text-align: right;\">    92</td><td style=\"text-align: right;\">   78.3</td><td style=\"text-align: right;\">    0.2</td><td style=\"text-align: right;\">    1742</td><td style=\"text-align: right;\">   7.6</td><td style=\"text-align: right;\">    nan</td><td style=\"text-align: right;\">    128</td><td style=\"text-align: right;\">    21</td><td style=\"text-align: right;\">   81  </td><td style=\"text-align: right;\">   0.05</td><td style=\"text-align: right;\">    1888</td><td style=\"text-align: right;\">     nan  </td><td style=\"text-align: right;\">     58.2</td><td style=\"text-align: right;\">      95.6</td><td style=\"text-align: right;\">     nan  </td><td style=\"text-align: right;\">      52.9</td><td style=\"text-align: right;\">     nan  </td><td style=\"text-align: right;\">      75.8</td><td style=\"text-align: right;\">     88.7</td><td style=\"text-align: right;\">      98.5</td></tr>\n",
       "<tr><td>D-5/3/90</td><td style=\"text-align: right;\">35023</td><td style=\"text-align: right;\">   3.5</td><td style=\"text-align: right;\">   7.9</td><td style=\"text-align: right;\">    205</td><td style=\"text-align: right;\">    588</td><td style=\"text-align: right;\">   192</td><td style=\"text-align: right;\">   65.6</td><td style=\"text-align: right;\">    4.5</td><td style=\"text-align: right;\">    2430</td><td style=\"text-align: right;\">   7.8</td><td style=\"text-align: right;\">    236</td><td style=\"text-align: right;\">   268</td><td style=\"text-align: right;\">   73.1</td><td style=\"text-align: right;\">    8.5</td><td style=\"text-align: right;\">    2280</td><td style=\"text-align: right;\">   7.8</td><td style=\"text-align: right;\">    158</td><td style=\"text-align: right;\">    376</td><td style=\"text-align: right;\">    96</td><td style=\"text-align: right;\">   77.1</td><td style=\"text-align: right;\">    0.4</td><td style=\"text-align: right;\">    2060</td><td style=\"text-align: right;\">   7.6</td><td style=\"text-align: right;\">     20</td><td style=\"text-align: right;\">    104</td><td style=\"text-align: right;\">    20</td><td style=\"text-align: right;\">   96.7</td><td style=\"text-align: right;\">   0   </td><td style=\"text-align: right;\">    1840</td><td style=\"text-align: right;\">      33.1</td><td style=\"text-align: right;\">     64.2</td><td style=\"text-align: right;\">      95.3</td><td style=\"text-align: right;\">      87.3</td><td style=\"text-align: right;\">      72.3</td><td style=\"text-align: right;\">      90.2</td><td style=\"text-align: right;\">      82.3</td><td style=\"text-align: right;\">     89.6</td><td style=\"text-align: right;\">     100  </td></tr>\n",
       "<tr><td>D-6/3/90</td><td style=\"text-align: right;\">36924</td><td style=\"text-align: right;\">   1.5</td><td style=\"text-align: right;\">   8  </td><td style=\"text-align: right;\">    242</td><td style=\"text-align: right;\">    496</td><td style=\"text-align: right;\">   176</td><td style=\"text-align: right;\">   64.8</td><td style=\"text-align: right;\">    4  </td><td style=\"text-align: right;\">    2110</td><td style=\"text-align: right;\">   7.9</td><td style=\"text-align: right;\">    nan</td><td style=\"text-align: right;\">   236</td><td style=\"text-align: right;\">   57.6</td><td style=\"text-align: right;\">    4.5</td><td style=\"text-align: right;\">    2020</td><td style=\"text-align: right;\">   7.8</td><td style=\"text-align: right;\">    nan</td><td style=\"text-align: right;\">    372</td><td style=\"text-align: right;\">    88</td><td style=\"text-align: right;\">   68.2</td><td style=\"text-align: right;\">    0.2</td><td style=\"text-align: right;\">    2250</td><td style=\"text-align: right;\">   7.6</td><td style=\"text-align: right;\">     19</td><td style=\"text-align: right;\">    108</td><td style=\"text-align: right;\">    22</td><td style=\"text-align: right;\">   65.9</td><td style=\"text-align: right;\">   0.02</td><td style=\"text-align: right;\">    2120</td><td style=\"text-align: right;\">     nan  </td><td style=\"text-align: right;\">     62.7</td><td style=\"text-align: right;\">      95.6</td><td style=\"text-align: right;\">     nan  </td><td style=\"text-align: right;\">      71  </td><td style=\"text-align: right;\">      92.1</td><td style=\"text-align: right;\">      78.2</td><td style=\"text-align: right;\">     87.5</td><td style=\"text-align: right;\">      99.5</td></tr>\n",
       "</tbody>\n",
       "</table>"
      ]
     },
     "metadata": {},
     "output_type": "display_data"
    },
    {
     "data": {
      "text/plain": []
     },
     "execution_count": 4,
     "metadata": {},
     "output_type": "execute_result"
    }
   ],
   "source": [
    "# Have a quick look\n",
    "train.head(5)"
   ]
  },
  {
   "cell_type": "markdown",
   "metadata": {},
   "source": [
    "# Define Features"
   ]
  },
  {
   "cell_type": "code",
   "execution_count": 5,
   "metadata": {},
   "outputs": [
    {
     "data": {
      "text/plain": [
       "['Q-E',\n",
       " 'ZN-E',\n",
       " 'PH-E',\n",
       " 'DBO-E',\n",
       " 'DQO-E',\n",
       " 'SS-E',\n",
       " 'SSV-E',\n",
       " 'SED-E',\n",
       " 'COND-E',\n",
       " 'PH-P',\n",
       " 'DBO-P',\n",
       " 'SS-P',\n",
       " 'SSV-P',\n",
       " 'SED-P',\n",
       " 'COND-P',\n",
       " 'PH-D',\n",
       " 'DBO-D',\n",
       " 'DQO-D',\n",
       " 'SS-D',\n",
       " 'SSV-D',\n",
       " 'SED-D',\n",
       " 'COND-D',\n",
       " 'PH-S',\n",
       " 'DBO-S',\n",
       " 'DQO-S',\n",
       " 'SS-S',\n",
       " 'SSV-S',\n",
       " 'SED-S',\n",
       " 'COND-S',\n",
       " 'RD-DBO-P',\n",
       " 'RD-SS-P',\n",
       " 'RD-SED-P',\n",
       " 'RD-DBO-S',\n",
       " 'RD-DQO-S',\n",
       " 'RD-DBO-G',\n",
       " 'RD-DQO-G',\n",
       " 'RD-SS-G',\n",
       " 'RD-SED-G']"
      ]
     },
     "execution_count": 5,
     "metadata": {},
     "output_type": "execute_result"
    }
   ],
   "source": [
    "# Define features (or predictors)\n",
    "features = list(train.columns) # we want to use all the information\n",
    "features.remove('name')    # we need to exclude the target 'medv' (otherwise there is nothing to predict)\n",
    "features"
   ]
  },
  {
   "cell_type": "markdown",
   "metadata": {},
   "source": [
    "# k-Means Clustering"
   ]
  },
  {
   "cell_type": "code",
   "execution_count": 6,
   "metadata": {},
   "outputs": [
    {
     "name": "stdout",
     "output_type": "stream",
     "text": [
      "kmeans Model Build progress: |████████████████████████████████████████████| 100%\n"
     ]
    }
   ],
   "source": [
    "from h2o.estimators.kmeans import H2OKMeansEstimator\n",
    "km = H2OKMeansEstimator(k = 10, init=\"Random\", seed=1234, standardize=True, estimate_k = True)\n",
    "km.train(x = features, training_frame = train)"
   ]
  },
  {
   "cell_type": "code",
   "execution_count": 7,
   "metadata": {},
   "outputs": [
    {
     "name": "stdout",
     "output_type": "stream",
     "text": [
      "Model Details\n",
      "=============\n",
      "H2OKMeansEstimator :  K-means\n",
      "Model Key:  KMeans_model_python_1519109639712_1\n",
      "\n",
      "\n",
      "ModelMetricsClustering: kmeans\n",
      "** Reported on train data. **\n",
      "\n",
      "MSE: NaN\n",
      "RMSE: NaN\n",
      "Total Within Cluster Sum of Square Error: 15449.19045661804\n",
      "Total Sum of Square Error to Grand Mean: 19397.00001397763\n",
      "Between Cluster Sum of Square Error: 3947.809557359591\n",
      "Centroid Statistics: \n"
     ]
    },
    {
     "data": {
      "text/html": [
       "<div style=\"overflow:auto\"><table style=\"width:50%\"><tr><td><b></b></td>\n",
       "<td><b>centroid</b></td>\n",
       "<td><b>size</b></td>\n",
       "<td><b>within_cluster_sum_of_squares</b></td></tr>\n",
       "<tr><td></td>\n",
       "<td>1.0</td>\n",
       "<td>268.0</td>\n",
       "<td>6854.5368882</td></tr>\n",
       "<tr><td></td>\n",
       "<td>2.0</td>\n",
       "<td>252.0</td>\n",
       "<td>7404.9121991</td></tr>\n",
       "<tr><td></td>\n",
       "<td>3.0</td>\n",
       "<td>7.0</td>\n",
       "<td>1189.7413693</td></tr></table></div>"
      ],
      "text/plain": [
       "    centroid    size    within_cluster_sum_of_squares\n",
       "--  ----------  ------  -------------------------------\n",
       "    1           268     6854.54\n",
       "    2           252     7404.91\n",
       "    3           7       1189.74"
      ]
     },
     "metadata": {},
     "output_type": "display_data"
    },
    {
     "name": "stdout",
     "output_type": "stream",
     "text": [
      "Scoring History: \n"
     ]
    },
    {
     "data": {
      "text/html": [
       "<div style=\"overflow:auto\"><table style=\"width:50%\"><tr><td><b></b></td>\n",
       "<td><b>timestamp</b></td>\n",
       "<td><b>duration</b></td>\n",
       "<td><b>iterations</b></td>\n",
       "<td><b>number_of_clusters</b></td>\n",
       "<td><b>number_of_reassigned_observations</b></td>\n",
       "<td><b>within_cluster_sum_of_squares</b></td></tr>\n",
       "<tr><td></td>\n",
       "<td>2018-02-20 07:54:04</td>\n",
       "<td> 0.017 sec</td>\n",
       "<td>0.0</td>\n",
       "<td>0.0</td>\n",
       "<td>nan</td>\n",
       "<td>nan</td></tr>\n",
       "<tr><td></td>\n",
       "<td>2018-02-20 07:54:04</td>\n",
       "<td> 0.049 sec</td>\n",
       "<td>1.0</td>\n",
       "<td>1.0</td>\n",
       "<td>527.0</td>\n",
       "<td>42967.5294213</td></tr>\n",
       "<tr><td></td>\n",
       "<td>2018-02-20 07:54:04</td>\n",
       "<td> 0.063 sec</td>\n",
       "<td>2.0</td>\n",
       "<td>1.0</td>\n",
       "<td>0.0</td>\n",
       "<td>19397.0000000</td></tr>\n",
       "<tr><td></td>\n",
       "<td>2018-02-20 07:54:04</td>\n",
       "<td> 0.082 sec</td>\n",
       "<td>3.0</td>\n",
       "<td>2.0</td>\n",
       "<td>108.0</td>\n",
       "<td>18219.0220275</td></tr>\n",
       "<tr><td></td>\n",
       "<td>2018-02-20 07:54:04</td>\n",
       "<td> 0.084 sec</td>\n",
       "<td>4.0</td>\n",
       "<td>2.0</td>\n",
       "<td>58.0</td>\n",
       "<td>17607.0174138</td></tr>\n",
       "<tr><td></td>\n",
       "<td>2018-02-20 07:54:04</td>\n",
       "<td> 0.087 sec</td>\n",
       "<td>5.0</td>\n",
       "<td>2.0</td>\n",
       "<td>31.0</td>\n",
       "<td>17416.9116807</td></tr>\n",
       "<tr><td></td>\n",
       "<td>2018-02-20 07:54:04</td>\n",
       "<td> 0.089 sec</td>\n",
       "<td>6.0</td>\n",
       "<td>2.0</td>\n",
       "<td>15.0</td>\n",
       "<td>17350.4792475</td></tr>\n",
       "<tr><td></td>\n",
       "<td>2018-02-20 07:54:04</td>\n",
       "<td> 0.091 sec</td>\n",
       "<td>7.0</td>\n",
       "<td>2.0</td>\n",
       "<td>13.0</td>\n",
       "<td>17328.0444634</td></tr>\n",
       "<tr><td></td>\n",
       "<td>2018-02-20 07:54:04</td>\n",
       "<td> 0.093 sec</td>\n",
       "<td>8.0</td>\n",
       "<td>2.0</td>\n",
       "<td>12.0</td>\n",
       "<td>17304.3460203</td></tr>\n",
       "<tr><td></td>\n",
       "<td>2018-02-20 07:54:04</td>\n",
       "<td> 0.095 sec</td>\n",
       "<td>9.0</td>\n",
       "<td>2.0</td>\n",
       "<td>9.0</td>\n",
       "<td>17284.5100055</td></tr>\n",
       "<tr><td></td>\n",
       "<td>2018-02-20 07:54:04</td>\n",
       "<td> 0.097 sec</td>\n",
       "<td>10.0</td>\n",
       "<td>2.0</td>\n",
       "<td>3.0</td>\n",
       "<td>17277.3291040</td></tr>\n",
       "<tr><td></td>\n",
       "<td>2018-02-20 07:54:04</td>\n",
       "<td> 0.099 sec</td>\n",
       "<td>11.0</td>\n",
       "<td>2.0</td>\n",
       "<td>3.0</td>\n",
       "<td>17276.3239669</td></tr>\n",
       "<tr><td></td>\n",
       "<td>2018-02-20 07:54:04</td>\n",
       "<td> 0.101 sec</td>\n",
       "<td>12.0</td>\n",
       "<td>2.0</td>\n",
       "<td>2.0</td>\n",
       "<td>17275.4558265</td></tr>\n",
       "<tr><td></td>\n",
       "<td>2018-02-20 07:54:04</td>\n",
       "<td> 0.109 sec</td>\n",
       "<td>13.0</td>\n",
       "<td>3.0</td>\n",
       "<td>22.0</td>\n",
       "<td>16190.4275187</td></tr>\n",
       "<tr><td></td>\n",
       "<td>2018-02-20 07:54:04</td>\n",
       "<td> 0.112 sec</td>\n",
       "<td>14.0</td>\n",
       "<td>3.0</td>\n",
       "<td>4.0</td>\n",
       "<td>15669.0340797</td></tr>\n",
       "<tr><td></td>\n",
       "<td>2018-02-20 07:54:04</td>\n",
       "<td> 0.115 sec</td>\n",
       "<td>15.0</td>\n",
       "<td>3.0</td>\n",
       "<td>3.0</td>\n",
       "<td>15581.3366473</td></tr>\n",
       "<tr><td></td>\n",
       "<td>2018-02-20 07:54:04</td>\n",
       "<td> 0.120 sec</td>\n",
       "<td>16.0</td>\n",
       "<td>3.0</td>\n",
       "<td>1.0</td>\n",
       "<td>15497.5186276</td></tr>\n",
       "<tr><td></td>\n",
       "<td>2018-02-20 07:54:04</td>\n",
       "<td> 0.122 sec</td>\n",
       "<td>17.0</td>\n",
       "<td>3.0</td>\n",
       "<td>2.0</td>\n",
       "<td>15464.3577116</td></tr>\n",
       "<tr><td></td>\n",
       "<td>2018-02-20 07:54:04</td>\n",
       "<td> 0.125 sec</td>\n",
       "<td>18.0</td>\n",
       "<td>3.0</td>\n",
       "<td>0.0</td>\n",
       "<td>15449.1904615</td></tr></table></div>"
      ],
      "text/plain": [
       "    timestamp            duration    iterations    number_of_clusters    number_of_reassigned_observations    within_cluster_sum_of_squares\n",
       "--  -------------------  ----------  ------------  --------------------  -----------------------------------  -------------------------------\n",
       "    2018-02-20 07:54:04  0.017 sec   0             0                     nan                                  nan\n",
       "    2018-02-20 07:54:04  0.049 sec   1             1                     527                                  42967.5\n",
       "    2018-02-20 07:54:04  0.063 sec   2             1                     0                                    19397\n",
       "    2018-02-20 07:54:04  0.082 sec   3             2                     108                                  18219\n",
       "    2018-02-20 07:54:04  0.084 sec   4             2                     58                                   17607\n",
       "    2018-02-20 07:54:04  0.087 sec   5             2                     31                                   17416.9\n",
       "    2018-02-20 07:54:04  0.089 sec   6             2                     15                                   17350.5\n",
       "    2018-02-20 07:54:04  0.091 sec   7             2                     13                                   17328\n",
       "    2018-02-20 07:54:04  0.093 sec   8             2                     12                                   17304.3\n",
       "    2018-02-20 07:54:04  0.095 sec   9             2                     9                                    17284.5\n",
       "    2018-02-20 07:54:04  0.097 sec   10            2                     3                                    17277.3\n",
       "    2018-02-20 07:54:04  0.099 sec   11            2                     3                                    17276.3\n",
       "    2018-02-20 07:54:04  0.101 sec   12            2                     2                                    17275.5\n",
       "    2018-02-20 07:54:04  0.109 sec   13            3                     22                                   16190.4\n",
       "    2018-02-20 07:54:04  0.112 sec   14            3                     4                                    15669\n",
       "    2018-02-20 07:54:04  0.115 sec   15            3                     3                                    15581.3\n",
       "    2018-02-20 07:54:04  0.120 sec   16            3                     1                                    15497.5\n",
       "    2018-02-20 07:54:04  0.122 sec   17            3                     2                                    15464.4\n",
       "    2018-02-20 07:54:04  0.125 sec   18            3                     0                                    15449.2"
      ]
     },
     "metadata": {},
     "output_type": "display_data"
    },
    {
     "data": {
      "text/plain": []
     },
     "execution_count": 7,
     "metadata": {},
     "output_type": "execute_result"
    }
   ],
   "source": [
    "km"
   ]
  },
  {
   "cell_type": "code",
   "execution_count": 8,
   "metadata": {},
   "outputs": [
    {
     "name": "stdout",
     "output_type": "stream",
     "text": [
      "kmeans prediction progress: |█████████████████████████████████████████████| 100%\n"
     ]
    },
    {
     "data": {
      "text/html": [
       "<table>\n",
       "<thead>\n",
       "<tr><th style=\"text-align: right;\">  predict</th></tr>\n",
       "</thead>\n",
       "<tbody>\n",
       "<tr><td style=\"text-align: right;\">        1</td></tr>\n",
       "<tr><td style=\"text-align: right;\">        1</td></tr>\n",
       "<tr><td style=\"text-align: right;\">        1</td></tr>\n",
       "<tr><td style=\"text-align: right;\">        1</td></tr>\n",
       "<tr><td style=\"text-align: right;\">        1</td></tr>\n",
       "<tr><td style=\"text-align: right;\">        1</td></tr>\n",
       "<tr><td style=\"text-align: right;\">        1</td></tr>\n",
       "<tr><td style=\"text-align: right;\">        1</td></tr>\n",
       "<tr><td style=\"text-align: right;\">        0</td></tr>\n",
       "<tr><td style=\"text-align: right;\">        1</td></tr>\n",
       "</tbody>\n",
       "</table>"
      ]
     },
     "metadata": {},
     "output_type": "display_data"
    },
    {
     "data": {
      "text/plain": []
     },
     "execution_count": 8,
     "metadata": {},
     "output_type": "execute_result"
    }
   ],
   "source": [
    "km.predict(train)"
   ]
  }
 ],
 "metadata": {
  "kernelspec": {
   "display_name": "Python 3",
   "language": "python",
   "name": "python3"
  },
  "language_info": {
   "codemirror_mode": {
    "name": "ipython",
    "version": 3
   },
   "file_extension": ".py",
   "mimetype": "text/x-python",
   "name": "python",
   "nbconvert_exporter": "python",
   "pygments_lexer": "ipython3",
   "version": "3.6.1"
  }
 },
 "nbformat": 4,
 "nbformat_minor": 2
}
