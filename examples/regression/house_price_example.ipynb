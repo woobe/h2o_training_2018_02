{
 "cells": [
  {
   "cell_type": "markdown",
   "metadata": {},
   "source": [
    "# Start H2O"
   ]
  },
  {
   "cell_type": "code",
   "execution_count": 1,
   "metadata": {},
   "outputs": [
    {
     "name": "stdout",
     "output_type": "stream",
     "text": [
      "Checking whether there is an H2O instance running at http://localhost:54321. connected.\n"
     ]
    },
    {
     "data": {
      "text/html": [
       "<div style=\"overflow:auto\"><table style=\"width:50%\"><tr><td>H2O cluster uptime:</td>\n",
       "<td>3 days 19 hours 17 mins</td></tr>\n",
       "<tr><td>H2O cluster timezone:</td>\n",
       "<td>Europe/London</td></tr>\n",
       "<tr><td>H2O data parsing timezone:</td>\n",
       "<td>UTC</td></tr>\n",
       "<tr><td>H2O cluster version:</td>\n",
       "<td>3.18.0.1</td></tr>\n",
       "<tr><td>H2O cluster version age:</td>\n",
       "<td>7 days, 1 hour and 37 minutes </td></tr>\n",
       "<tr><td>H2O cluster name:</td>\n",
       "<td>H2O_started_from_R_jofaichow_ydb410</td></tr>\n",
       "<tr><td>H2O cluster total nodes:</td>\n",
       "<td>1</td></tr>\n",
       "<tr><td>H2O cluster free memory:</td>\n",
       "<td>3.058 Gb</td></tr>\n",
       "<tr><td>H2O cluster total cores:</td>\n",
       "<td>8</td></tr>\n",
       "<tr><td>H2O cluster allowed cores:</td>\n",
       "<td>8</td></tr>\n",
       "<tr><td>H2O cluster status:</td>\n",
       "<td>locked, healthy</td></tr>\n",
       "<tr><td>H2O connection url:</td>\n",
       "<td>http://localhost:54321</td></tr>\n",
       "<tr><td>H2O connection proxy:</td>\n",
       "<td>None</td></tr>\n",
       "<tr><td>H2O internal security:</td>\n",
       "<td>False</td></tr>\n",
       "<tr><td>H2O API Extensions:</td>\n",
       "<td>XGBoost, Algos, AutoML, Core V3, Core V4</td></tr>\n",
       "<tr><td>Python version:</td>\n",
       "<td>3.6.1 final</td></tr></table></div>"
      ],
      "text/plain": [
       "--------------------------  ----------------------------------------\n",
       "H2O cluster uptime:         3 days 19 hours 17 mins\n",
       "H2O cluster timezone:       Europe/London\n",
       "H2O data parsing timezone:  UTC\n",
       "H2O cluster version:        3.18.0.1\n",
       "H2O cluster version age:    7 days, 1 hour and 37 minutes\n",
       "H2O cluster name:           H2O_started_from_R_jofaichow_ydb410\n",
       "H2O cluster total nodes:    1\n",
       "H2O cluster free memory:    3.058 Gb\n",
       "H2O cluster total cores:    8\n",
       "H2O cluster allowed cores:  8\n",
       "H2O cluster status:         locked, healthy\n",
       "H2O connection url:         http://localhost:54321\n",
       "H2O connection proxy:\n",
       "H2O internal security:      False\n",
       "H2O API Extensions:         XGBoost, Algos, AutoML, Core V3, Core V4\n",
       "Python version:             3.6.1 final\n",
       "--------------------------  ----------------------------------------"
      ]
     },
     "metadata": {},
     "output_type": "display_data"
    }
   ],
   "source": [
    "# Start and connect to a local H2O cluster\n",
    "import h2o\n",
    "h2o.init()"
   ]
  },
  {
   "cell_type": "markdown",
   "metadata": {},
   "source": [
    "# Import Data"
   ]
  },
  {
   "cell_type": "code",
   "execution_count": 2,
   "metadata": {},
   "outputs": [
    {
     "name": "stdout",
     "output_type": "stream",
     "text": [
      "Parse progress: |█████████████████████████████████████████████████████████| 100%\n",
      "Parse progress: |█████████████████████████████████████████████████████████| 100%\n"
     ]
    }
   ],
   "source": [
    "# Import house price data from GitHub\n",
    "train = h2o.import_file(\"https://github.com/woobe/h2o_training_2018_02/raw/master/examples/regression/house_price_train.csv\")\n",
    "test = h2o.import_file(\"https://github.com/woobe/h2o_training_2018_02/raw/master/examples/regression/house_price_test.csv\")"
   ]
  },
  {
   "cell_type": "code",
   "execution_count": 3,
   "metadata": {
    "collapsed": true
   },
   "outputs": [],
   "source": [
    "# Alternatively, import data locally\n",
    "# train = h2o.import_file(\"house_price_train.csv\")\n",
    "# test = h2o.import_file(\"house_price_test.csv\")"
   ]
  },
  {
   "cell_type": "code",
   "execution_count": 4,
   "metadata": {},
   "outputs": [
    {
     "data": {
      "text/html": [
       "<table>\n",
       "<thead>\n",
       "<tr><th style=\"text-align: right;\">   crim</th><th style=\"text-align: right;\">  zn</th><th style=\"text-align: right;\">  indus</th><th style=\"text-align: right;\">  chas</th><th style=\"text-align: right;\">  nox</th><th style=\"text-align: right;\">   rm</th><th style=\"text-align: right;\">  age</th><th style=\"text-align: right;\">   dis</th><th style=\"text-align: right;\">  rad</th><th style=\"text-align: right;\">  tax</th><th style=\"text-align: right;\">  ptratio</th><th style=\"text-align: right;\">     b</th><th style=\"text-align: right;\">  lstat</th><th style=\"text-align: right;\">  medv</th></tr>\n",
       "</thead>\n",
       "<tbody>\n",
       "<tr><td style=\"text-align: right;\">0.02731</td><td style=\"text-align: right;\"> 0  </td><td style=\"text-align: right;\">   7.07</td><td style=\"text-align: right;\">     0</td><td style=\"text-align: right;\">0.469</td><td style=\"text-align: right;\">6.421</td><td style=\"text-align: right;\"> 78.9</td><td style=\"text-align: right;\">4.9671</td><td style=\"text-align: right;\">    2</td><td style=\"text-align: right;\">  242</td><td style=\"text-align: right;\">     17.8</td><td style=\"text-align: right;\">396.9 </td><td style=\"text-align: right;\">   9.14</td><td style=\"text-align: right;\">  21.6</td></tr>\n",
       "<tr><td style=\"text-align: right;\">0.02729</td><td style=\"text-align: right;\"> 0  </td><td style=\"text-align: right;\">   7.07</td><td style=\"text-align: right;\">     0</td><td style=\"text-align: right;\">0.469</td><td style=\"text-align: right;\">7.185</td><td style=\"text-align: right;\"> 61.1</td><td style=\"text-align: right;\">4.9671</td><td style=\"text-align: right;\">    2</td><td style=\"text-align: right;\">  242</td><td style=\"text-align: right;\">     17.8</td><td style=\"text-align: right;\">392.83</td><td style=\"text-align: right;\">   4.03</td><td style=\"text-align: right;\">  34.7</td></tr>\n",
       "<tr><td style=\"text-align: right;\">0.03237</td><td style=\"text-align: right;\"> 0  </td><td style=\"text-align: right;\">   2.18</td><td style=\"text-align: right;\">     0</td><td style=\"text-align: right;\">0.458</td><td style=\"text-align: right;\">6.998</td><td style=\"text-align: right;\"> 45.8</td><td style=\"text-align: right;\">6.0622</td><td style=\"text-align: right;\">    3</td><td style=\"text-align: right;\">  222</td><td style=\"text-align: right;\">     18.7</td><td style=\"text-align: right;\">394.63</td><td style=\"text-align: right;\">   2.94</td><td style=\"text-align: right;\">  33.4</td></tr>\n",
       "<tr><td style=\"text-align: right;\">0.06905</td><td style=\"text-align: right;\"> 0  </td><td style=\"text-align: right;\">   2.18</td><td style=\"text-align: right;\">     0</td><td style=\"text-align: right;\">0.458</td><td style=\"text-align: right;\">7.147</td><td style=\"text-align: right;\"> 54.2</td><td style=\"text-align: right;\">6.0622</td><td style=\"text-align: right;\">    3</td><td style=\"text-align: right;\">  222</td><td style=\"text-align: right;\">     18.7</td><td style=\"text-align: right;\">396.9 </td><td style=\"text-align: right;\">   5.33</td><td style=\"text-align: right;\">  36.2</td></tr>\n",
       "<tr><td style=\"text-align: right;\">0.08829</td><td style=\"text-align: right;\">12.5</td><td style=\"text-align: right;\">   7.87</td><td style=\"text-align: right;\">     0</td><td style=\"text-align: right;\">0.524</td><td style=\"text-align: right;\">6.012</td><td style=\"text-align: right;\"> 66.6</td><td style=\"text-align: right;\">5.5605</td><td style=\"text-align: right;\">    5</td><td style=\"text-align: right;\">  311</td><td style=\"text-align: right;\">     15.2</td><td style=\"text-align: right;\">395.6 </td><td style=\"text-align: right;\">  12.43</td><td style=\"text-align: right;\">  22.9</td></tr>\n",
       "</tbody>\n",
       "</table>"
      ]
     },
     "metadata": {},
     "output_type": "display_data"
    },
    {
     "data": {
      "text/plain": []
     },
     "execution_count": 4,
     "metadata": {},
     "output_type": "execute_result"
    }
   ],
   "source": [
    "# Have a quick look\n",
    "train.head(5)"
   ]
  },
  {
   "cell_type": "markdown",
   "metadata": {},
   "source": [
    "# Define Features"
   ]
  },
  {
   "cell_type": "code",
   "execution_count": 5,
   "metadata": {},
   "outputs": [
    {
     "data": {
      "text/plain": [
       "['crim',\n",
       " 'zn',\n",
       " 'indus',\n",
       " 'chas',\n",
       " 'nox',\n",
       " 'rm',\n",
       " 'age',\n",
       " 'dis',\n",
       " 'rad',\n",
       " 'tax',\n",
       " 'ptratio',\n",
       " 'b',\n",
       " 'lstat']"
      ]
     },
     "execution_count": 5,
     "metadata": {},
     "output_type": "execute_result"
    }
   ],
   "source": [
    "# Define features (or predictors)\n",
    "features = list(train.columns) # we want to use all the information\n",
    "features.remove('medv')    # we need to exclude the target 'medv' (otherwise there is nothing to predict)\n",
    "features"
   ]
  },
  {
   "cell_type": "markdown",
   "metadata": {},
   "source": [
    "# Generalized Linear Model (GLM)"
   ]
  },
  {
   "cell_type": "code",
   "execution_count": 6,
   "metadata": {},
   "outputs": [
    {
     "name": "stdout",
     "output_type": "stream",
     "text": [
      "glm Model Build progress: |███████████████████████████████████████████████| 100%\n"
     ]
    }
   ],
   "source": [
    "# Build a Generalized Linear Model (GLM) with default settings\n",
    "\n",
    "# Import the function for GLM\n",
    "from h2o.estimators.glm import H2OGeneralizedLinearEstimator\n",
    "\n",
    "# Set up GLM for regression\n",
    "glm_default = H2OGeneralizedLinearEstimator(family = 'gaussian', model_id = 'glm_default')\n",
    "\n",
    "# Use .train() to build the model\n",
    "glm_default.train(x = features, \n",
    "                  y = 'medv', \n",
    "                  training_frame = train)"
   ]
  },
  {
   "cell_type": "markdown",
   "metadata": {},
   "source": [
    "# Distributed Random Forest (DRF)"
   ]
  },
  {
   "cell_type": "code",
   "execution_count": 7,
   "metadata": {},
   "outputs": [
    {
     "name": "stdout",
     "output_type": "stream",
     "text": [
      "drf Model Build progress: |███████████████████████████████████████████████| 100%\n"
     ]
    }
   ],
   "source": [
    "# Build a Distributed Random Forest (DRF) model with default settings\n",
    "\n",
    "# Import the function for DRF\n",
    "from h2o.estimators.random_forest import H2ORandomForestEstimator\n",
    "\n",
    "# Set up DRF for regression\n",
    "# Add a seed for reproducibility\n",
    "drf_default = H2ORandomForestEstimator(model_id = 'drf_default', seed = 1234)\n",
    "\n",
    "# Use .train() to build the model\n",
    "drf_default.train(x = features, \n",
    "                  y = 'medv', \n",
    "                  training_frame = train)"
   ]
  },
  {
   "cell_type": "markdown",
   "metadata": {},
   "source": [
    "# Gradient Boosting Machine (GBM)"
   ]
  },
  {
   "cell_type": "code",
   "execution_count": 8,
   "metadata": {},
   "outputs": [
    {
     "name": "stdout",
     "output_type": "stream",
     "text": [
      "gbm Model Build progress: |███████████████████████████████████████████████| 100%\n"
     ]
    }
   ],
   "source": [
    "# Build a Gradient Boosting Machines (GBM) model with default settings\n",
    "\n",
    "# Import the function for GBM\n",
    "from h2o.estimators.gbm import H2OGradientBoostingEstimator\n",
    "\n",
    "# Set up GBM for regression\n",
    "# Add a seed for reproducibility\n",
    "gbm_default = H2OGradientBoostingEstimator(model_id = 'gbm_default', seed = 1234)\n",
    "\n",
    "# Use .train() to build the model\n",
    "gbm_default.train(x = features, \n",
    "                  y = 'medv', \n",
    "                  training_frame = train)"
   ]
  },
  {
   "cell_type": "code",
   "execution_count": 9,
   "metadata": {},
   "outputs": [
    {
     "data": {
      "image/png": "[encoded data removed]",
      "text/plain": [
       "<matplotlib.figure.Figure at 0x112ac2c18>"
      ]
     },
     "metadata": {},
     "output_type": "display_data"
    }
   ],
   "source": [
    "gbm_default.varimp_plot()"
   ]
  },
  {
   "cell_type": "markdown",
   "metadata": {},
   "source": [
    "# Deep Neural Networks (DNN)"
   ]
  },
  {
   "cell_type": "code",
   "execution_count": 10,
   "metadata": {},
   "outputs": [
    {
     "name": "stdout",
     "output_type": "stream",
     "text": [
      "deeplearning Model Build progress: |██████████████████████████████████████| 100%\n"
     ]
    }
   ],
   "source": [
    "# Build a Deep Learning (Deep Neural Networks, DNN) model with default settings\n",
    "\n",
    "# Import the function for DNN\n",
    "from h2o.estimators.deeplearning import H2ODeepLearningEstimator\n",
    "\n",
    "# Set up DNN for regression\n",
    "dnn_default = H2ODeepLearningEstimator(model_id = 'dnn_default')\n",
    "\n",
    "# (not run) Change 'reproducible' to True if you want to reproduce the results\n",
    "# The model will be built using a single thread (could be very slow)\n",
    "# dnn_default = H2ODeepLearningEstimator(model_id = 'dnn_default', reproducible = True)\n",
    "\n",
    "# Use .train() to build the model\n",
    "dnn_default.train(x = features, \n",
    "                  y = 'medv', \n",
    "                  training_frame = train)"
   ]
  },
  {
   "cell_type": "markdown",
   "metadata": {},
   "source": [
    "# AutoML"
   ]
  },
  {
   "cell_type": "code",
   "execution_count": 11,
   "metadata": {},
   "outputs": [
    {
     "name": "stdout",
     "output_type": "stream",
     "text": [
      "AutoML progress: |████████████████████████████████████████████████████████| 100%\n",
      "Parse progress: |█████████████████████████████████████████████████████████| 100%\n"
     ]
    },
    {
     "data": {
      "text/html": [
       "<table>\n",
       "<thead>\n",
       "<tr><th>model_id                                             </th><th style=\"text-align: right;\">  mean_residual_deviance</th><th style=\"text-align: right;\">   rmse</th><th style=\"text-align: right;\">    mae</th><th style=\"text-align: right;\">   rmsle</th></tr>\n",
       "</thead>\n",
       "<tbody>\n",
       "<tr><td>GBM_grid_0_AutoML_20180220_061327_model_17           </td><td style=\"text-align: right;\">                 9.00314</td><td style=\"text-align: right;\">3.00052</td><td style=\"text-align: right;\">2.1088 </td><td style=\"text-align: right;\">0.132865</td></tr>\n",
       "<tr><td>StackedEnsemble_BestOfFamily_0_AutoML_20180220_061327</td><td style=\"text-align: right;\">                 9.02606</td><td style=\"text-align: right;\">3.00434</td><td style=\"text-align: right;\">2.08334</td><td style=\"text-align: right;\">0.132228</td></tr>\n",
       "<tr><td>StackedEnsemble_AllModels_0_AutoML_20180220_061327   </td><td style=\"text-align: right;\">                 9.27243</td><td style=\"text-align: right;\">3.04507</td><td style=\"text-align: right;\">2.11926</td><td style=\"text-align: right;\">0.132598</td></tr>\n",
       "<tr><td>GBM_grid_0_AutoML_20180220_061327_model_0            </td><td style=\"text-align: right;\">                 9.47915</td><td style=\"text-align: right;\">3.07882</td><td style=\"text-align: right;\">2.15842</td><td style=\"text-align: right;\">0.137468</td></tr>\n",
       "<tr><td>GBM_grid_0_AutoML_20180220_061327_model_2            </td><td style=\"text-align: right;\">                 9.57026</td><td style=\"text-align: right;\">3.09358</td><td style=\"text-align: right;\">2.15251</td><td style=\"text-align: right;\">0.135438</td></tr>\n",
       "<tr><td>GBM_grid_0_AutoML_20180220_061327_model_20           </td><td style=\"text-align: right;\">                 9.85258</td><td style=\"text-align: right;\">3.13888</td><td style=\"text-align: right;\">2.21929</td><td style=\"text-align: right;\">0.141201</td></tr>\n",
       "<tr><td>GBM_grid_0_AutoML_20180220_061327_model_1            </td><td style=\"text-align: right;\">                10.1996 </td><td style=\"text-align: right;\">3.19369</td><td style=\"text-align: right;\">2.19673</td><td style=\"text-align: right;\">0.139343</td></tr>\n",
       "<tr><td>GBM_grid_0_AutoML_20180220_061327_model_3            </td><td style=\"text-align: right;\">                11.4983 </td><td style=\"text-align: right;\">3.39092</td><td style=\"text-align: right;\">2.29573</td><td style=\"text-align: right;\">0.146836</td></tr>\n",
       "<tr><td>GBM_grid_0_AutoML_20180220_061327_model_8            </td><td style=\"text-align: right;\">                11.8744 </td><td style=\"text-align: right;\">3.44592</td><td style=\"text-align: right;\">2.40767</td><td style=\"text-align: right;\">0.152187</td></tr>\n",
       "<tr><td>DRF_0_AutoML_20180220_061327                         </td><td style=\"text-align: right;\">                12.0756 </td><td style=\"text-align: right;\">3.475  </td><td style=\"text-align: right;\">2.41142</td><td style=\"text-align: right;\">0.150721</td></tr>\n",
       "</tbody>\n",
       "</table>"
      ]
     },
     "metadata": {},
     "output_type": "display_data"
    },
    {
     "data": {
      "text/plain": []
     },
     "execution_count": 11,
     "metadata": {},
     "output_type": "execute_result"
    }
   ],
   "source": [
    "# Build multiple H2O models and stacked ensembles with AutoML\n",
    "\n",
    "# Import the function\n",
    "from h2o.automl import H2OAutoML\n",
    "\n",
    "# Run AutoML for 30 seconds\n",
    "aml = H2OAutoML(max_runtime_secs = 30)\n",
    "\n",
    "aml.train(x = features, \n",
    "          y = 'medv',\n",
    "          training_frame = train)\n",
    "\n",
    "# View the AutoML Leaderboard\n",
    "lb = aml.leaderboard\n",
    "lb"
   ]
  },
  {
   "cell_type": "markdown",
   "metadata": {},
   "source": [
    "# Evaluate"
   ]
  },
  {
   "cell_type": "code",
   "execution_count": 12,
   "metadata": {},
   "outputs": [
    {
     "name": "stdout",
     "output_type": "stream",
     "text": [
      "\n",
      "ModelMetricsRegression: gbm\n",
      "** Reported on test data. **\n",
      "\n",
      "MSE: 10.802087447624594\n",
      "RMSE: 3.286652924728225\n",
      "MAE: 2.311737095309379\n",
      "RMSLE: 0.16067220832474405\n",
      "Mean Residual Deviance: 10.802087447624594\n"
     ]
    },
    {
     "data": {
      "text/plain": []
     },
     "execution_count": 12,
     "metadata": {},
     "output_type": "execute_result"
    }
   ],
   "source": [
    "aml.leader.model_performance(test)"
   ]
  },
  {
   "cell_type": "markdown",
   "metadata": {},
   "source": [
    "# Make Predictions"
   ]
  },
  {
   "cell_type": "code",
   "execution_count": 13,
   "metadata": {},
   "outputs": [
    {
     "name": "stdout",
     "output_type": "stream",
     "text": [
      "gbm prediction progress: |████████████████████████████████████████████████| 100%\n"
     ]
    },
    {
     "data": {
      "text/html": [
       "<table>\n",
       "<thead>\n",
       "<tr><th style=\"text-align: right;\">  predict</th></tr>\n",
       "</thead>\n",
       "<tbody>\n",
       "<tr><td style=\"text-align: right;\">  26.2866</td></tr>\n",
       "<tr><td style=\"text-align: right;\">  26.2327</td></tr>\n",
       "<tr><td style=\"text-align: right;\">  16.4371</td></tr>\n",
       "<tr><td style=\"text-align: right;\">  14.6721</td></tr>\n",
       "<tr><td style=\"text-align: right;\">  14.1186</td></tr>\n",
       "</tbody>\n",
       "</table>"
      ]
     },
     "metadata": {},
     "output_type": "display_data"
    },
    {
     "data": {
      "text/plain": []
     },
     "execution_count": 13,
     "metadata": {},
     "output_type": "execute_result"
    }
   ],
   "source": [
    "yhat_test = aml.leader.predict(test)\n",
    "yhat_test.head(5)"
   ]
  }
 ],
 "metadata": {
  "kernelspec": {
   "display_name": "Python 3",
   "language": "python",
   "name": "python3"
  },
  "language_info": {
   "codemirror_mode": {
    "name": "ipython",
    "version": 3
   },
   "file_extension": ".py",
   "mimetype": "text/x-python",
   "name": "python",
   "nbconvert_exporter": "python",
   "pygments_lexer": "ipython3",
   "version": "3.6.1"
  }
 },
 "nbformat": 4,
 "nbformat_minor": 2
}
